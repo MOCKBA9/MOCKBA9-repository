import random
import numpy
number = random.randrange(1,101)     #задаем число
mylist = range(1,101) # диапазон поиска
start = 0
stop = len(mylist)
predict = random.randrange(1,101) #задаем число
count =  0
def search(mylist,predict, start, stop):
    while predict != number:
        global count
        count += 1
        mid = (start + stop) // 2
        if predict == mid:
            return count
        elif predict<mid:
            return search(mylist,predict, start, mid-1)
        else:
            return search(mylist,predict, mid+1, stop)
    return count
new_list = [] # список с показателями функции
for i in range(1,1001): # проверка в диапазоне
    number = random.randrange(1,101)
    mylist = range(1,101)
    start = 0
    stop = len(mylist)
    predict = random.randrange(1,101)
    count =  0
    new_list.append(search(mylist,predict, start, stop))
avg = int(numpy.mean(new_list)) #количество попыток
print(f'Ваш алгоритм угадывает число в среднем за {avg} попыток')
